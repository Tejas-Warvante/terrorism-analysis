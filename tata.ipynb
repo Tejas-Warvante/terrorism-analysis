{
 "cells": [
  {
   "cell_type": "code",
   "execution_count": 20,
   "id": "80a07b80",
   "metadata": {},
   "outputs": [],
   "source": [
    "import math\n",
    "import warnings\n",
    "import numpy as np # linear algebra\n",
    "import pandas as pd # data processing, CSV file I/O (e.g. pd.read_csv)\n",
    "import seaborn as sns\n",
    "import plotly.offline as py\n",
    "import plotly.graph_objs as go\n",
    "import matplotlib.pyplot as plt\n",
    "warnings.filterwarnings('ignore')"
   ]
  },
  {
   "cell_type": "code",
   "execution_count": 21,
   "id": "27e61d49",
   "metadata": {},
   "outputs": [],
   "source": [
    "terror = pd.read_csv('Grow.csv')"
   ]
  },
  {
   "cell_type": "code",
   "execution_count": 22,
   "id": "f3c5bd87",
   "metadata": {},
   "outputs": [
    {
     "data": {
      "text/html": [
       "<div>\n",
       "<style scoped>\n",
       "    .dataframe tbody tr th:only-of-type {\n",
       "        vertical-align: middle;\n",
       "    }\n",
       "\n",
       "    .dataframe tbody tr th {\n",
       "        vertical-align: top;\n",
       "    }\n",
       "\n",
       "    .dataframe thead th {\n",
       "        text-align: right;\n",
       "    }\n",
       "</style>\n",
       "<table border=\"1\" class=\"dataframe\">\n",
       "  <thead>\n",
       "    <tr style=\"text-align: right;\">\n",
       "      <th></th>\n",
       "      <th>Unnamed: 0</th>\n",
       "      <th>eventid</th>\n",
       "      <th>iyear</th>\n",
       "      <th>imonth</th>\n",
       "      <th>iday</th>\n",
       "      <th>approxdate</th>\n",
       "      <th>extended</th>\n",
       "      <th>resolution</th>\n",
       "      <th>country</th>\n",
       "      <th>country_txt</th>\n",
       "      <th>...</th>\n",
       "      <th>addnotes</th>\n",
       "      <th>scite1</th>\n",
       "      <th>scite2</th>\n",
       "      <th>scite3</th>\n",
       "      <th>dbsource</th>\n",
       "      <th>INT_LOG</th>\n",
       "      <th>INT_IDEO</th>\n",
       "      <th>INT_MISC</th>\n",
       "      <th>INT_ANY</th>\n",
       "      <th>related</th>\n",
       "    </tr>\n",
       "  </thead>\n",
       "  <tbody>\n",
       "    <tr>\n",
       "      <th>0</th>\n",
       "      <td>0</td>\n",
       "      <td>19700001</td>\n",
       "      <td>1970</td>\n",
       "      <td>7</td>\n",
       "      <td>2</td>\n",
       "      <td>NaN</td>\n",
       "      <td>0</td>\n",
       "      <td>NaN</td>\n",
       "      <td>58</td>\n",
       "      <td>Phillipines</td>\n",
       "      <td>...</td>\n",
       "      <td>NaN</td>\n",
       "      <td>NaN</td>\n",
       "      <td>NaN</td>\n",
       "      <td>NaN</td>\n",
       "      <td>PGIS</td>\n",
       "      <td>0</td>\n",
       "      <td>0</td>\n",
       "      <td>0</td>\n",
       "      <td>0</td>\n",
       "      <td>NaN</td>\n",
       "    </tr>\n",
       "    <tr>\n",
       "      <th>1</th>\n",
       "      <td>1</td>\n",
       "      <td>19700002</td>\n",
       "      <td>1970</td>\n",
       "      <td>0</td>\n",
       "      <td>0</td>\n",
       "      <td>NaN</td>\n",
       "      <td>0</td>\n",
       "      <td>NaN</td>\n",
       "      <td>130</td>\n",
       "      <td>Mexico</td>\n",
       "      <td>...</td>\n",
       "      <td>NaN</td>\n",
       "      <td>NaN</td>\n",
       "      <td>NaN</td>\n",
       "      <td>NaN</td>\n",
       "      <td>PGIS</td>\n",
       "      <td>0</td>\n",
       "      <td>1</td>\n",
       "      <td>1</td>\n",
       "      <td>1</td>\n",
       "      <td>NaN</td>\n",
       "    </tr>\n",
       "    <tr>\n",
       "      <th>2</th>\n",
       "      <td>2</td>\n",
       "      <td>19700101</td>\n",
       "      <td>1970</td>\n",
       "      <td>1</td>\n",
       "      <td>0</td>\n",
       "      <td>NaN</td>\n",
       "      <td>0</td>\n",
       "      <td>NaN</td>\n",
       "      <td>140</td>\n",
       "      <td>Greece</td>\n",
       "      <td>...</td>\n",
       "      <td>NaN</td>\n",
       "      <td>NaN</td>\n",
       "      <td>NaN</td>\n",
       "      <td>NaN</td>\n",
       "      <td>PGIS</td>\n",
       "      <td>-9</td>\n",
       "      <td>-9</td>\n",
       "      <td>1</td>\n",
       "      <td>1</td>\n",
       "      <td>NaN</td>\n",
       "    </tr>\n",
       "    <tr>\n",
       "      <th>3</th>\n",
       "      <td>3</td>\n",
       "      <td>19700102</td>\n",
       "      <td>1970</td>\n",
       "      <td>1</td>\n",
       "      <td>0</td>\n",
       "      <td>NaN</td>\n",
       "      <td>0</td>\n",
       "      <td>NaN</td>\n",
       "      <td>78</td>\n",
       "      <td>England</td>\n",
       "      <td>...</td>\n",
       "      <td>NaN</td>\n",
       "      <td>NaN</td>\n",
       "      <td>NaN</td>\n",
       "      <td>NaN</td>\n",
       "      <td>PGIS</td>\n",
       "      <td>-9</td>\n",
       "      <td>-9</td>\n",
       "      <td>1</td>\n",
       "      <td>1</td>\n",
       "      <td>NaN</td>\n",
       "    </tr>\n",
       "    <tr>\n",
       "      <th>4</th>\n",
       "      <td>4</td>\n",
       "      <td>19700103</td>\n",
       "      <td>1970</td>\n",
       "      <td>1</td>\n",
       "      <td>0</td>\n",
       "      <td>NaN</td>\n",
       "      <td>0</td>\n",
       "      <td>NaN</td>\n",
       "      <td>100</td>\n",
       "      <td>Japan</td>\n",
       "      <td>...</td>\n",
       "      <td>NaN</td>\n",
       "      <td>NaN</td>\n",
       "      <td>NaN</td>\n",
       "      <td>NaN</td>\n",
       "      <td>PGIS</td>\n",
       "      <td>-9</td>\n",
       "      <td>-9</td>\n",
       "      <td>1</td>\n",
       "      <td>1</td>\n",
       "      <td>NaN</td>\n",
       "    </tr>\n",
       "  </tbody>\n",
       "</table>\n",
       "<p>5 rows × 21 columns</p>\n",
       "</div>"
      ],
      "text/plain": [
       "   Unnamed: 0   eventid  iyear  imonth  iday  approxdate  extended  \\\n",
       "0           0  19700001   1970       7     2         NaN         0   \n",
       "1           1  19700002   1970       0     0         NaN         0   \n",
       "2           2  19700101   1970       1     0         NaN         0   \n",
       "3           3  19700102   1970       1     0         NaN         0   \n",
       "4           4  19700103   1970       1     0         NaN         0   \n",
       "\n",
       "   resolution  country  country_txt  ...  addnotes  scite1  scite2  scite3  \\\n",
       "0         NaN       58  Phillipines  ...       NaN     NaN     NaN     NaN   \n",
       "1         NaN      130       Mexico  ...       NaN     NaN     NaN     NaN   \n",
       "2         NaN      140       Greece  ...       NaN     NaN     NaN     NaN   \n",
       "3         NaN       78      England  ...       NaN     NaN     NaN     NaN   \n",
       "4         NaN      100        Japan  ...       NaN     NaN     NaN     NaN   \n",
       "\n",
       "   dbsource INT_LOG  INT_IDEO  INT_MISC  INT_ANY  related  \n",
       "0      PGIS       0         0         0        0      NaN  \n",
       "1      PGIS       0         1         1        1      NaN  \n",
       "2      PGIS      -9        -9         1        1      NaN  \n",
       "3      PGIS      -9        -9         1        1      NaN  \n",
       "4      PGIS      -9        -9         1        1      NaN  \n",
       "\n",
       "[5 rows x 21 columns]"
      ]
     },
     "execution_count": 22,
     "metadata": {},
     "output_type": "execute_result"
    }
   ],
   "source": [
    "terror.head()"
   ]
  },
  {
   "cell_type": "code",
   "execution_count": 23,
   "id": "65942601",
   "metadata": {},
   "outputs": [
    {
     "data": {
      "text/plain": [
       "Index(['Unnamed: 0', 'eventid', 'iyear', 'imonth', 'iday', 'approxdate',\n",
       "       'extended', 'resolution', 'country', 'country_txt', 'region',\n",
       "       'addnotes', 'scite1', 'scite2', 'scite3', 'dbsource', 'INT_LOG',\n",
       "       'INT_IDEO', 'INT_MISC', 'INT_ANY', 'related'],\n",
       "      dtype='object')"
      ]
     },
     "execution_count": 23,
     "metadata": {},
     "output_type": "execute_result"
    }
   ],
   "source": [
    "terror.columns"
   ]
  },
  {
   "cell_type": "code",
   "execution_count": 24,
   "id": "ec4794e8",
   "metadata": {},
   "outputs": [],
   "source": [
    "terror.rename(columns={'iyear':'Year','imonth':'Month','iday':'Day','country_txt':'Country','provstate':'state',\n",
    "                       'region_txt':'Region','attacktype1_txt':'AttackType','target1':'Target','nkill':'Killed',\n",
    "                       'nwound':'Wounded','summary':'Summary','gname':'Group','targtype1_txt':'Target_type',\n",
    "                       'weaptype1_txt':'Weapon_type','motive':'Motive'},inplace=True)"
   ]
  },
  {
   "cell_type": "code",
   "execution_count": 26,
   "id": "f50c2961",
   "metadata": {},
   "outputs": [
    {
     "data": {
      "text/plain": [
       "Unnamed: 0    0\n",
       "eventid       0\n",
       "Year          0\n",
       "Month         0\n",
       "Day           0\n",
       "approxdate    5\n",
       "extended      0\n",
       "resolution    5\n",
       "country       0\n",
       "Country       0\n",
       "region        0\n",
       "addnotes      5\n",
       "scite1        5\n",
       "scite2        5\n",
       "scite3        5\n",
       "dbsource      0\n",
       "INT_LOG       0\n",
       "INT_IDEO      0\n",
       "INT_MISC      0\n",
       "INT_ANY       0\n",
       "related       5\n",
       "dtype: int64"
      ]
     },
     "execution_count": 26,
     "metadata": {},
     "output_type": "execute_result"
    }
   ],
   "source": [
    "terror.isnull().sum()"
   ]
  },
  {
   "cell_type": "code",
   "execution_count": 27,
   "id": "a0f5febe",
   "metadata": {},
   "outputs": [
    {
     "name": "stdout",
     "output_type": "stream",
     "text": [
      "<class 'pandas.core.frame.DataFrame'>\n",
      "RangeIndex: 5 entries, 0 to 4\n",
      "Data columns (total 21 columns):\n",
      " #   Column      Non-Null Count  Dtype  \n",
      "---  ------      --------------  -----  \n",
      " 0   Unnamed: 0  5 non-null      int64  \n",
      " 1   eventid     5 non-null      int64  \n",
      " 2   Year        5 non-null      int64  \n",
      " 3   Month       5 non-null      int64  \n",
      " 4   Day         5 non-null      int64  \n",
      " 5   approxdate  0 non-null      float64\n",
      " 6   extended    5 non-null      int64  \n",
      " 7   resolution  0 non-null      float64\n",
      " 8   country     5 non-null      int64  \n",
      " 9   Country     5 non-null      object \n",
      " 10  region      5 non-null      int64  \n",
      " 11  addnotes    0 non-null      float64\n",
      " 12  scite1      0 non-null      float64\n",
      " 13  scite2      0 non-null      float64\n",
      " 14  scite3      0 non-null      float64\n",
      " 15  dbsource    5 non-null      object \n",
      " 16  INT_LOG     5 non-null      int64  \n",
      " 17  INT_IDEO    5 non-null      int64  \n",
      " 18  INT_MISC    5 non-null      int64  \n",
      " 19  INT_ANY     5 non-null      int64  \n",
      " 20  related     0 non-null      float64\n",
      "dtypes: float64(7), int64(12), object(2)\n",
      "memory usage: 968.0+ bytes\n"
     ]
    }
   ],
   "source": [
    "\n",
    "terror.info()"
   ]
  },
  {
   "cell_type": "code",
   "execution_count": 28,
   "id": "1320ec84",
   "metadata": {},
   "outputs": [
    {
     "data": {
      "text/plain": [
       "1970    5\n",
       "Name: Year, dtype: int64"
      ]
     },
     "execution_count": 28,
     "metadata": {},
     "output_type": "execute_result"
    }
   ],
   "source": [
    "terror['Year'].value_counts(dropna = False).sort_index()"
   ]
  },
  {
   "cell_type": "code",
   "execution_count": 29,
   "id": "c6c254de",
   "metadata": {},
   "outputs": [
    {
     "data": {
      "image/png": "[encoded data removed]",
      "text/plain": [
       "<Figure size 1296x720 with 1 Axes>"
      ]
     },
     "metadata": {
      "needs_background": "light"
     },
     "output_type": "display_data"
    }
   ],
   "source": [
    "x_year = terror['Year'].unique()\n",
    "y_count_years = terror['Year'].value_counts(dropna = False).sort_index()\n",
    "plt.figure(figsize = (18,10))\n",
    "sns.barplot(x = x_year,\n",
    "           y = y_count_years,\n",
    "           palette = 'rocket')\n",
    "plt.xticks(rotation = 45)\n",
    "plt.xlabel('Attack Year')\n",
    "plt.ylabel('Number of Attacks each year')\n",
    "plt.title('Attack_of_Years')\n",
    "plt.show()"
   ]
  },
  {
   "cell_type": "code",
   "execution_count": 31,
   "id": "906fe89f",
   "metadata": {},
   "outputs": [
    {
     "data": {
      "image/png": "[encoded data removed]",
      "text/plain": [
       "<Figure size 1080x432 with 1 Axes>"
      ]
     },
     "metadata": {
      "needs_background": "light"
     },
     "output_type": "display_data"
    }
   ],
   "source": [
    "plt.subplots(figsize=(15,6))\n",
    "sns.countplot('Year',data=terror,palette='RdYlGn_r',edgecolor=sns.color_palette(\"YlOrBr\", 10))\n",
    "plt.xticks(rotation=45)\n",
    "plt.title('Number Of Terrorist Activities Each Year')\n",
    "plt.show()"
   ]
  },
  {
   "cell_type": "code",
   "execution_count": null,
   "id": "21680f7a",
   "metadata": {},
   "outputs": [],
   "source": []
  },
  {
   "cell_type": "code",
   "execution_count": null,
   "id": "4fe6501a",
   "metadata": {},
   "outputs": [],
   "source": []
  }
 ],
 "metadata": {
  "kernelspec": {
   "display_name": "Python 3 (ipykernel)",
   "language": "python",
   "name": "python3"
  },
  "language_info": {
   "codemirror_mode": {
    "name": "ipython",
    "version": 3
   },
   "file_extension": ".py",
   "mimetype": "text/x-python",
   "name": "python",
   "nbconvert_exporter": "python",
   "pygments_lexer": "ipython3",
   "version": "3.9.12"
  }
 },
 "nbformat": 4,
 "nbformat_minor": 5
}
